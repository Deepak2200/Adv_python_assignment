{
 "cells": [
  {
   "cell_type": "markdown",
   "id": "e2f2a0c6-0d55-4a8a-b8e1-6e5188112e0d",
   "metadata": {},
   "source": [
    "#1. What is the concept of an abstract superclass?"
   ]
  },
  {
   "cell_type": "code",
   "execution_count": null,
   "id": "8a63e01a-8e73-462d-9725-13418e9550b5",
   "metadata": {},
   "outputs": [],
   "source": [
    "Ans: An abstract class/superclass can be considered as a blueprint for other classes.\n",
    "It allows you to create a set of methods that must be created within any child classes built from the abstract class.\n",
    "A class which contains one or more abstract methods is called an abstract class.\n",
    "\n",
    "Whereas an abstract method is a method that has a declaration but does not have an implementation"
   ]
  },
  {
   "cell_type": "code",
   "execution_count": 1,
   "id": "ca21e748-2b23-4874-a9fa-5c1530f8a3bd",
   "metadata": {},
   "outputs": [],
   "source": [
    "from abc import ABC, abstractmethod\n",
    "class Polygon(ABC): # Abstract Class\n",
    "    @abstractmethod\n",
    "    def noofsides(self): # Abstract Method\n",
    "        pass\n",
    "class Triangle(Polygon):\n",
    "    def noofsides(self):  # overriding abstract method in child class Triangle\n",
    "        print(\"I have 3 sides\")\n",
    "class Pentagon(Polygon):\n",
    "    def noofsides(self): # overriding abstract method in child class Pentagon\n",
    "        print(\"I have 5 sides\")"
   ]
  },
  {
   "cell_type": "markdown",
   "id": "b6f4a689-129d-40a7-83fd-1bdce7122f0d",
   "metadata": {},
   "source": [
    "#2. What happens when a class statement's top level contains a basic assignment statement?\n"
   ]
  },
  {
   "cell_type": "code",
   "execution_count": null,
   "id": "52207eff-cb20-460f-8e84-8c54a311db16",
   "metadata": {},
   "outputs": [],
   "source": [
    "Ans: When a Class statement's top level contains a basic assignment statement, its usually treated as a class attribute or class level variable.\n",
    "\n",
    "where as assignment statements inside methods are treated as instance attributes or local attributes.\n",
    "\n",
    "When an instance of a class is created a single copy of class attributes is maintained and shared to all instances of class.\n",
    "where as each instance object maintains its own copy of instance variables."
   ]
  },
  {
   "cell_type": "code",
   "execution_count": 2,
   "id": "686651e1-442a-4192-984b-113debd34c71",
   "metadata": {},
   "outputs": [],
   "source": [
    "class Person:\n",
    "    species = 'Homesapiens' # class attribute\n",
    "    def __init__(self,name,gender):\n",
    "        self.name = name # instance attributes\n",
    "        self.gender = gender"
   ]
  },
  {
   "cell_type": "markdown",
   "id": "c7f6c8ac-1ccf-4088-80bb-225fe21a79e3",
   "metadata": {},
   "source": [
    "#3. Why does a class need to manually call a superclass's init method?"
   ]
  },
  {
   "cell_type": "code",
   "execution_count": null,
   "id": "14098226-8291-4f7f-91a6-05480d65f824",
   "metadata": {},
   "outputs": [],
   "source": [
    "Ans: if a child class has __init__ method, then it will not inherit the __init__ method of the parent class. \n",
    "in other words the __init__ method of the child class overrides the __init__ method of the parent class. \n",
    "so we have to manually call a parent superclass's __init__ using super() method"
   ]
  },
  {
   "cell_type": "code",
   "execution_count": 4,
   "id": "3ea57639-77af-4bfd-8c86-cfe24baf12d5",
   "metadata": {},
   "outputs": [
    {
     "name": "stdout",
     "output_type": "stream",
     "text": [
      "{'name': 'deep', 'age': 28, 'salary': 20000}\n"
     ]
    }
   ],
   "source": [
    "class Person:\n",
    "    def __init__(self,name,age):\n",
    "        self.name = name\n",
    "        self.age = age       \n",
    "class Employee(Person):\n",
    "    def __init__(self,name,age,salary):\n",
    "        super().__init__(name,age)\n",
    "        self.salary = salary\n",
    "emp_1 = Employee('deep',28,20000)\n",
    "print(emp_1.__dict__)"
   ]
  },
  {
   "cell_type": "markdown",
   "id": "0adce9fa-864f-4eb9-a6a0-f34ded979285",
   "metadata": {},
   "source": [
    "#4. How can you augment, instead of completely replacing, an inherited method?"
   ]
  },
  {
   "cell_type": "code",
   "execution_count": null,
   "id": "a58cb9fc-732e-4f0c-bf6f-8f7f5d21cf11",
   "metadata": {},
   "outputs": [],
   "source": [
    "Ans: super() method can be used to augment, instead of completely replacing, an inherited method."
   ]
  },
  {
   "cell_type": "code",
   "execution_count": 5,
   "id": "a2222799-8e0d-4895-9f5c-403cd8868888",
   "metadata": {},
   "outputs": [
    {
     "name": "stdout",
     "output_type": "stream",
     "text": [
      "{'name': 'deep', 'gender': 'Male', 'salary': 10000}\n"
     ]
    }
   ],
   "source": [
    "class Person:\n",
    "    def __init__(self,name,gender):\n",
    "        self.name = name\n",
    "        self.gender = gender\n",
    "class Employee(Person):\n",
    "    def __init__(self,name,gender,salary):\n",
    "        super().__init__(name,gender) \n",
    "        self.salary = salary\n",
    "emp_1 = Employee('deep','Male',10000)\n",
    "print(emp_1.__dict__)"
   ]
  },
  {
   "cell_type": "markdown",
   "id": "7e06b960-aa9e-4efe-98a2-b3bc4905e152",
   "metadata": {},
   "source": [
    "#5. How is the local scope of a class different from that of a function?"
   ]
  },
  {
   "cell_type": "code",
   "execution_count": null,
   "id": "08e62f1c-d45b-4557-a56d-a1b85fa86b4e",
   "metadata": {},
   "outputs": [],
   "source": [
    "Ans: A Variable which is defined inside a function is local to that function. it is accesible from the point at which it is defined until the end of the function, \n",
    "and exists for as long as the function is existing.\n",
    "\n",
    "Similary a variable inside of a class also has a local variable scope. Variables which are defined in the class body (but outside all methods) \n",
    "are called as class level variables or class attributes. they can be referenced by there bare names within the same scope, \n",
    "but they can also be accessed from outside this scope if we use the attribute access operator (.). on a class or an instance of the class."
   ]
  },
  {
   "cell_type": "code",
   "execution_count": 9,
   "id": "a4855b1d-8edf-4873-a2b4-74b2a1b924fd",
   "metadata": {},
   "outputs": [
    {
     "name": "stdout",
     "output_type": "stream",
     "text": [
      "you're name is Deepak yadav\n",
      "Name varible is not available outside hello function scope\n",
      "homesapines\n",
      "homesapines\n"
     ]
    }
   ],
   "source": [
    "def hello(name):\n",
    "    name = name\n",
    "    print(f'you\\'re name is {name}')\n",
    "hello('Deepak yadav')\n",
    "try:\n",
    "    name\n",
    "except NameError:\n",
    "    print('Name varible is not available outside hello function scope')\n",
    "\n",
    "class Person:\n",
    "    species = \"homesapines\"\n",
    "    def __init__(self):\n",
    "        pass\n",
    "print(Person.species) # Accessing species using class name\n",
    "Male = Person()\n",
    "print(Male.species) "
   ]
  },
  {
   "cell_type": "code",
   "execution_count": null,
   "id": "c421833b-d58e-43b1-a80f-9b8061042a68",
   "metadata": {},
   "outputs": [],
   "source": []
  }
 ],
 "metadata": {
  "kernelspec": {
   "display_name": "Python 3 (ipykernel)",
   "language": "python",
   "name": "python3"
  },
  "language_info": {
   "codemirror_mode": {
    "name": "ipython",
    "version": 3
   },
   "file_extension": ".py",
   "mimetype": "text/x-python",
   "name": "python",
   "nbconvert_exporter": "python",
   "pygments_lexer": "ipython3",
   "version": "3.10.6"
  }
 },
 "nbformat": 4,
 "nbformat_minor": 5
}
