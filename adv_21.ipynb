{
 "cells": [
  {
   "cell_type": "markdown",
   "id": "5780a64f-e1b1-4de5-ae35-d69cf5a0e7f8",
   "metadata": {},
   "source": [
    "### Q1. What is a probability distribution, exactly? If the values are meant to be random, how can you predict them at all ?\n",
    "Ans: A probability distribution describes how a random variable is distributed.\n",
    "\n",
    "It tells us which values a random variable is most likely to take on and which values are less likely. Based on the previous data and the occurences of the random event, we can predict the outcome in terms of probabilities."
   ]
  },
  {
   "cell_type": "markdown",
   "id": "6023fc04-7d1d-47cd-9d15-de64509068ac",
   "metadata": {},
   "source": [
    "### Q2. Is there a distinction between true random numbers and pseudo-random numbers, if there is one? Why are the latter considered “good enough”?\n",
    "Ans: : True Random Numbers are true physical values while pseudo-random numbers are generated internally by a program . Latter is considered good enough as they have sort of uniform distribution."
   ]
  },
  {
   "cell_type": "markdown",
   "id": "be5aa911-f7d6-4dcd-9aff-aca4962783d1",
   "metadata": {},
   "source": [
    "### Q3. What are the two main factors that influence the behaviour of a \"normal\" probability distribution ?\n",
    "Ans: Normal Probability Distribution are influenced by two factors mean and the variance."
   ]
  },
  {
   "cell_type": "markdown",
   "id": "00aff479-4255-4a32-9172-90984624c22d",
   "metadata": {},
   "source": [
    "### Q4. Provide a real-life example of a normal distribution ?\n",
    "Ans: A Real-life example of a normal distribution are heights or blood pressure measurements"
   ]
  },
  {
   "cell_type": "markdown",
   "id": "2dd2ca04-68d7-4123-9b33-c618cae8385d",
   "metadata": {},
   "source": [
    "### Q5. In the short term, how can you expect a probability distribution to behave? What do you think will happen as the number of trials grows ?\n",
    "Ans: Variance will decrease with number of trials"
   ]
  },
  {
   "cell_type": "markdown",
   "id": "4467aea4-0c31-4eb0-a969-d029cb1b1156",
   "metadata": {},
   "source": [
    "### Q6. What kind of object can be shuffled by using random.shuffle ?\n",
    "Ans: lists (list), strings (str) and tuples (tuple) objects can be shuffled by using random.shuffle."
   ]
  },
  {
   "cell_type": "markdown",
   "id": "ae54b23c-d0c5-4d63-bc98-4f80e2643d7b",
   "metadata": {},
   "source": [
    "### Q7. Describe the math package's general categories of functions ?\n",
    "Ans: The Math package's general categories of functions are:\n",
    "\n",
    "Trigonometric functions\n",
    "\n",
    "Quadratic functions\n",
    "\n",
    "Exponential functions\n",
    "\n",
    "Hyperbolic functions\n",
    "\n",
    "Periodic functions\n",
    "\n",
    "Arithmetic functions\n",
    "\n",
    "Logarithimic functions\n",
    "\n",
    "Conversions to Integer"
   ]
  },
  {
   "cell_type": "markdown",
   "id": "92a792cf-b923-4bef-b0ac-d1372faa388b",
   "metadata": {},
   "source": [
    "### Q8. What is the relationship between exponentiation and logarithms ?\n",
    "Ans: Exponentiation and logarithms are inverse of each other."
   ]
  },
  {
   "cell_type": "markdown",
   "id": "71ed9fcc-fc72-454b-9e6d-dfa1591a7274",
   "metadata": {},
   "source": [
    "### Q9. What are the three logarithmic functions that Python supports ?\n",
    "Ans: The Three Logarithmic Functions that Python supports are:\n",
    "\n",
    "log2(x) - logarithmic value of x to base 2\n",
    "log10(x) - logarithmic value of x to base 10\n",
    "log1p(a) - This function is used to compute logarithm(1+a) ."
   ]
  },
  {
   "cell_type": "code",
   "execution_count": null,
   "id": "6521fde9-e48c-45b8-9d80-5ce5c9c673cb",
   "metadata": {},
   "outputs": [],
   "source": []
  }
 ],
 "metadata": {
  "kernelspec": {
   "display_name": "Python 3 (ipykernel)",
   "language": "python",
   "name": "python3"
  },
  "language_info": {
   "codemirror_mode": {
    "name": "ipython",
    "version": 3
   },
   "file_extension": ".py",
   "mimetype": "text/x-python",
   "name": "python",
   "nbconvert_exporter": "python",
   "pygments_lexer": "ipython3",
   "version": "3.10.6"
  }
 },
 "nbformat": 4,
 "nbformat_minor": 5
}
