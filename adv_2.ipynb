{
 "cells": [
  {
   "cell_type": "markdown",
   "id": "344476a5-cffc-4f55-a3e0-5ccaeb5d91ac",
   "metadata": {},
   "source": [
    "#Q1. What is the relationship between classes and modules?"
   ]
  },
  {
   "cell_type": "code",
   "execution_count": null,
   "id": "c3c10627-cab1-4b42-9502-701a7020700b",
   "metadata": {},
   "outputs": [],
   "source": [
    "Ans: A Python class is like an outline/blueprint/mold for creating a new object. An object is anything that \n",
    "you wish to manipulate or change while working through the code. Every time a class object is instantiated,\n",
    "which is when we declare a variable, a new object is initiated from scratch\n",
    "\n",
    "Whereas in Python, Modules are simply files with the . py extension containing Python code that can be imported inside \n",
    "another Python Program. In simple terms, we can consider a module to be the same as a code library or a file that \n",
    "contains a set of functions/Classes that you want to include in your application."
   ]
  },
  {
   "cell_type": "markdown",
   "id": "1381f405-c6ae-4580-b90a-1cbdb94b7d09",
   "metadata": {},
   "source": [
    "#Q2. How do you make instances and classes?"
   ]
  },
  {
   "cell_type": "code",
   "execution_count": null,
   "id": "50c7bda8-0aef-41eb-9a65-a84f4460f1ef",
   "metadata": {},
   "outputs": [],
   "source": [
    "Ans: For creating a class instance. we call a class by its name and pass the arguments which its __init__ method accepts.\n",
    "\n",
    "Example: vishwak = employee('Male',20000), Here vishwak is an instance of class employee with attriubutes 'Male' and 20000.\n",
    "\n",
    "Whereas for creating a class, we use the Class keyword. Class keyword is followed by classname and semicolon.\n",
    "\n",
    "Example: Here Employee is a class created with class keyword with arguments gender and salary.\n",
    "\n",
    "class Employee: def __init__(self, gender,salary): self.gender = gender self.salary = salary"
   ]
  },
  {
   "cell_type": "markdown",
   "id": "c9fd29ca-f977-46ac-bc1a-84b7fabbf11a",
   "metadata": {},
   "source": [
    "#Q3. Where and how should be class attributes created?"
   ]
  },
  {
   "cell_type": "code",
   "execution_count": null,
   "id": "c2e3883f-d6f6-447d-864e-0567f7647856",
   "metadata": {},
   "outputs": [],
   "source": [
    "Ans: Class attributes or Class level Attributes belong to the class itself. these attributes will be shared by all the instances of the class. Hence these attributes are usually created/defined in the top of class definiation outside all methods.\n",
    "\n",
    "Example: In the below code we are defining a class attribute called no_of_wheels which will be shared by all the instances of the class Car\n",
    "\n",
    "class Car: no_of_wheels = 4; # this is a class attribute def __init__(self,color,price,engine): self.color = color # All this are instance attributes self.price = price self.engine = engine"
   ]
  },
  {
   "cell_type": "markdown",
   "id": "f465f654-46e5-4f79-8c4e-d591119be3fb",
   "metadata": {},
   "source": [
    "#Q4. Where and how are instance attributes created?"
   ]
  },
  {
   "cell_type": "code",
   "execution_count": null,
   "id": "e20a0e28-d85c-45d2-809b-dca6294d17d7",
   "metadata": {},
   "outputs": [],
   "source": [
    "\n",
    "Ans: Instances attributes are passed to the class when an object of the class is created. Unlike class attributes, instance attributes are not shared by \n",
    "all objects of the classs. instead each object maintains its own copy of instance attributes at object level. whereas incase of class attributes all\n",
    "instances of class refer to a single copy. Usually instance attributes are defined within the __init__ method of class\n",
    "\n",
    "Example: In the below sample code we are creating a class Car with instance varaibles color, price, engine, which will be provided when an instance of\n",
    "class Car is created."
   ]
  },
  {
   "cell_type": "code",
   "execution_count": 4,
   "id": "e4f75afd-da99-42a3-bb01-68f34611c044",
   "metadata": {},
   "outputs": [],
   "source": [
    "class Car: \n",
    "    def __init__(self,color,price,engine):\n",
    "        self.color = color # All this are instance attributes self.price = price self.engine = engine\n",
    "\n",
    "nexon_ev = Car('Indigo Blue', 1400000, 'electric')\n",
    "safari = Car('Pearl White',2100000, 'petrol')"
   ]
  },
  {
   "cell_type": "markdown",
   "id": "44eee3d0-eeff-4fa0-a98a-d2b95475d298",
   "metadata": {},
   "source": [
    "#Q5. What does the term \"self\" in a Python class mean?"
   ]
  },
  {
   "cell_type": "code",
   "execution_count": null,
   "id": "48dc6773-e28e-43e8-a7c1-ea41761205ae",
   "metadata": {},
   "outputs": [],
   "source": [
    "\n",
    "Ans: self represents the instance of the class (it represents the object itself). By using the “self” keyword we can access the attributes\n",
    "and methods of the class with in the class in python. It binds the attributes with the given arguments."
   ]
  },
  {
   "cell_type": "code",
   "execution_count": 8,
   "id": "94429f05-a78f-4b7b-b3b1-eff7a7a74aac",
   "metadata": {},
   "outputs": [
    {
     "name": "stdout",
     "output_type": "stream",
     "text": [
      "{'color': 'Indigo Blue', 'price': 1400000, 'engine': 'electric'}\n",
      "{'color': 'Pearl White', 'price': 2100000, 'engine': 'petrol'}\n"
     ]
    }
   ],
   "source": [
    "class Car:\n",
    "    def __init__(self,color,price,engine):\n",
    "        self.color = color # All this are instance attributes\n",
    "        self.price = price\n",
    "        self.engine = engine\n",
    "\n",
    "nexon_ev = Car('Indigo Blue', 1400000, 'electric')\n",
    "safari = Car('Pearl White',2100000, 'petrol')\n",
    "\n",
    "print(nexon_ev.__dict__)\n",
    "print(safari.__dict__)"
   ]
  },
  {
   "cell_type": "markdown",
   "id": "187f3013-ec01-427c-bb91-f180696f4f0a",
   "metadata": {},
   "source": [
    "#Q6. How does a Python class handle operator overloading?"
   ]
  },
  {
   "cell_type": "markdown",
   "id": "22a85b2d-0786-447e-8548-82c809a7977a",
   "metadata": {},
   "source": [
    "Ans: Python Classes handle operator overloading by using special methods called Magic methods. these special methods usually begin and end with __ (double underscore)\n",
    "Example: Magic methods for basic arithmetic operators are:\n",
    "\n",
    "+ -> __add__()\n",
    "- -> __sub__()\n",
    "* -> __mul__()\n",
    "/ -> __div__()"
   ]
  },
  {
   "cell_type": "code",
   "execution_count": 9,
   "id": "be8abf72-0bcc-4833-9a7a-4e16a6d054b1",
   "metadata": {},
   "outputs": [
    {
     "name": "stdout",
     "output_type": "stream",
     "text": [
      "The total number of pages in 2 books is 300\n"
     ]
    }
   ],
   "source": [
    "class Book:\n",
    "    def __init__(self,pages):\n",
    "        self.pages = pages\n",
    "    def __add__(self,other):\n",
    "        return self.pages + other.pages\n",
    "b1 = Book(100)\n",
    "b2 = Book(200)\n",
    "print(f'The total number of pages in 2 books is {b1+b2}')"
   ]
  },
  {
   "cell_type": "markdown",
   "id": "c572fdc4-7efe-44ed-a44d-af39d82af090",
   "metadata": {},
   "source": [
    "#Q7. When do you consider allowing operator overloading of your classes?\n"
   ]
  },
  {
   "cell_type": "markdown",
   "id": "25c92da4-c3eb-4497-904d-82f08591bf8c",
   "metadata": {},
   "source": [
    "Ans: When we want to have different meaning for the same operator accroding to the context we use operator overloading."
   ]
  },
  {
   "cell_type": "markdown",
   "id": "f286f64a-88f9-4981-990f-6fb5c24fb912",
   "metadata": {},
   "source": [
    "#Q8. What is the most popular form of operator overloading?"
   ]
  },
  {
   "cell_type": "markdown",
   "id": "9b74916d-3787-4df0-833b-546f34872b0c",
   "metadata": {},
   "source": [
    "Ans: The most popular form of operator overloading in python is by special methods called Magic methods. Which usually beign and end with double underscore __<method name>__."
   ]
  },
  {
   "cell_type": "code",
   "execution_count": 13,
   "id": "2b7c16b6-6be4-4ee1-a956-3b8b51009bd2",
   "metadata": {},
   "outputs": [
    {
     "name": "stdout",
     "output_type": "stream",
     "text": [
      "Sum -> 3\n",
      "String Concatenation -> deepak yadav\n"
     ]
    }
   ],
   "source": [
    "class A:\n",
    "    def __init__(self,a):\n",
    "        self.a = a\n",
    "    def __add__(self,o):\n",
    "        return self.a+o.a\n",
    "obj1 = A(1)\n",
    "obj2 = A(2)\n",
    "obj3 = A('deepak')\n",
    "obj4 = A(' yadav')\n",
    "print(f'Sum -> {obj1+obj2}')\n",
    "print(f'String Concatenation -> {obj3+obj4}')"
   ]
  },
  {
   "cell_type": "markdown",
   "id": "643f00ac-acac-4461-88c5-b512897df8be",
   "metadata": {},
   "source": [
    "#Q9. What are the two most important concepts to grasp in order to comprehend Python OOP code?"
   ]
  },
  {
   "cell_type": "code",
   "execution_count": null,
   "id": "433e94d2-5f61-400a-9d34-7a2fc1abd62a",
   "metadata": {},
   "outputs": [],
   "source": [
    "Ans: Classes and objects are the two concepts to comprehend python OOP code as more formally objects are entities that represent instances of general abstract concept called class\n",
    "\n",
    "Along with classes and objects the important concepts to grasp are:\n",
    "\n",
    "Inheritence\n",
    "Abstraction\n",
    "Polymorphism\n",
    "Encapsulation"
   ]
  }
 ],
 "metadata": {
  "kernelspec": {
   "display_name": "Python 3 (ipykernel)",
   "language": "python",
   "name": "python3"
  },
  "language_info": {
   "codemirror_mode": {
    "name": "ipython",
    "version": 3
   },
   "file_extension": ".py",
   "mimetype": "text/x-python",
   "name": "python",
   "nbconvert_exporter": "python",
   "pygments_lexer": "ipython3",
   "version": "3.10.6"
  }
 },
 "nbformat": 4,
 "nbformat_minor": 5
}
