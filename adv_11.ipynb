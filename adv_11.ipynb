{
 "cells": [
  {
   "cell_type": "markdown",
   "id": "5f796766-ede3-4f9d-a141-ec157907237a",
   "metadata": {},
   "source": [
    "#Q1. What is the concept of a metaclass?"
   ]
  },
  {
   "cell_type": "code",
   "execution_count": null,
   "id": "399ddf65-37ae-41d5-a0b3-a7c4400cfbeb",
   "metadata": {},
   "outputs": [],
   "source": [
    "Ans: Metaclass in Python is a class of a class that defines how a class behaves. A class is itself a instance of Metaclass, and \n",
    "any Instance of Class in Python is an Instance of type metaclass. E.g. Type of of int, str, float, list, tuple and many more is of metaclass type."
   ]
  },
  {
   "cell_type": "markdown",
   "id": "9d98a97e-1aa3-40c9-90b0-92d996deacf0",
   "metadata": {},
   "source": [
    "#Q2. What is the best way to declare a class's metaclass?"
   ]
  },
  {
   "cell_type": "code",
   "execution_count": null,
   "id": "af90352c-3237-4ad7-b632-d7a9fbca71ac",
   "metadata": {},
   "outputs": [],
   "source": [
    "Ans: A way to declare a class’ metaclass is by using metaclass keyword in class definition."
   ]
  },
  {
   "cell_type": "code",
   "execution_count": 1,
   "id": "a82c9371-c838-40fc-973b-7e50a03c52c9",
   "metadata": {},
   "outputs": [
    {
     "name": "stdout",
     "output_type": "stream",
     "text": [
      "<class 'type'>\n",
      "<class '__main__.meta'>\n"
     ]
    }
   ],
   "source": [
    "class meta(type):\n",
    "    pass\n",
    "class class_meta(metaclass=meta):\n",
    "    pass\n",
    "print(type(meta))\n",
    "print(type(class_meta))"
   ]
  },
  {
   "cell_type": "markdown",
   "id": "8b596104-0743-41e1-964c-0007f3582f50",
   "metadata": {},
   "source": [
    "#Q3. How do class decorators overlap with metaclasses for handling classes ?"
   ]
  },
  {
   "cell_type": "code",
   "execution_count": null,
   "id": "20e491b8-c4b0-4fa5-9fc0-f99a365e1544",
   "metadata": {},
   "outputs": [],
   "source": [
    "Ans: Anything you can do with a class decorator, you can of course do with a custom metaclasses \n",
    "(just apply the functionality of the \"decorator function\", i.e., the one that takes a class object and modifies it, in the course of the metaclass's __new__ or __init__ that make the class object!)."
   ]
  },
  {
   "cell_type": "markdown",
   "id": "db763e7a-dd3f-4f65-a18d-06a9d946e478",
   "metadata": {},
   "source": [
    "#Q4. How do class decorators overlap with metaclasses for handling instances?"
   ]
  },
  {
   "cell_type": "code",
   "execution_count": null,
   "id": "f439acf1-29a1-4e82-b7c0-9c9ff813de11",
   "metadata": {},
   "outputs": [],
   "source": [
    "Ans: Anything you can do with a class decorator, you can of course do with a custom metaclass (just apply the functionality of the \"decorator function\", \n",
    "i.e., the one that takes a class object and modifies it, in the course of the metaclass's __new__ or __init__ that make the class object!)."
   ]
  }
 ],
 "metadata": {
  "kernelspec": {
   "display_name": "Python 3 (ipykernel)",
   "language": "python",
   "name": "python3"
  },
  "language_info": {
   "codemirror_mode": {
    "name": "ipython",
    "version": 3
   },
   "file_extension": ".py",
   "mimetype": "text/x-python",
   "name": "python",
   "nbconvert_exporter": "python",
   "pygments_lexer": "ipython3",
   "version": "3.10.6"
  }
 },
 "nbformat": 4,
 "nbformat_minor": 5
}
