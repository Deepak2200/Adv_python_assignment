{
 "cells": [
  {
   "cell_type": "markdown",
   "id": "a2b35d06-94e3-454a-88b5-a94455fd76c7",
   "metadata": {},
   "source": [
    "#Q1. What is the purpose of Python's OOP?"
   ]
  },
  {
   "cell_type": "code",
   "execution_count": null,
   "id": "dff38717-d572-45f1-ae14-be74c12551d8",
   "metadata": {},
   "outputs": [],
   "source": [
    "OOP:- object orianted programing\n",
    "\n",
    "It allows us to develop applications using an Object-Oriented approach. In Python, we can easily create and use classes \n",
    "and objects. An object-oriented paradigm is to design the program using classes and objects.\n",
    "It aims to implement real-world entities like inheritance, polymorphisms, encapsulation, etc. in the programming.\n",
    "The main concept of OOPs is to bind the data and the functions that work on that together as a single\n",
    "unit so that no other part of the code can access this data.\n",
    "It comes up with the following advantages:\n",
    "It helps to divide our over all program into different small segments and thus making it solving easy with the use of objects\n",
    "Helps in easy maintenance and modification of existing program\n",
    "Multiple instances of an object can be made\n"
   ]
  },
  {
   "cell_type": "markdown",
   "id": "ea0e4ac4-0a71-4cc3-8556-921b252fe1de",
   "metadata": {},
   "source": [
    "#Q2. Where does an inheritance search look for an attribute?"
   ]
  },
  {
   "cell_type": "markdown",
   "id": "87a0d043-0dfe-4a51-84ef-d8db5274b8ce",
   "metadata": {},
   "source": [
    "Ans: Python searches for an attribute in an upward tree of attributes. it first searches for the attribute in its instance and then looks in the class it is generated from, to all super classes listed in its class header"
   ]
  },
  {
   "cell_type": "markdown",
   "id": "b706bf19-8b95-4026-af57-9852767d3ae3",
   "metadata": {},
   "source": [
    "#Q3. How do you distinguish between a class object and an instance object?"
   ]
  },
  {
   "cell_type": "markdown",
   "id": "2aa8a663-6e30-4e1e-9604-d89fc64a6aa8",
   "metadata": {},
   "source": [
    "Ans: The differences between a class object and an instance object are:\n",
    "\n",
    "Class is a template for creating objects whereas object is an instance of class\n",
    "Seperate memory is allocated for each object whenever an object is created. but for a class this doesnot happens.\n",
    "A Class is created once. Many objects are created using a class.\n",
    "As Classes have no allocated memory. they can't be manipulated. but objects can be manipulated."
   ]
  },
  {
   "cell_type": "markdown",
   "id": "57263d69-9bfd-493b-9ac9-0819f249e186",
   "metadata": {},
   "source": [
    "Q4. What makes the first argument in a class’s method function special?"
   ]
  },
  {
   "cell_type": "code",
   "execution_count": null,
   "id": "96c5aae5-068e-4f9d-aacc-05374be64c5c",
   "metadata": {},
   "outputs": [],
   "source": [
    "Ans: Python Classes usually have three types of methods which are:\n",
    "\n",
    "Instance Methods (object level methods)\n",
    "Class Methods (class level methods)\n",
    "Static Methods (general utility methods)\n",
    "self is the first argument for instance methods. which refers to the object itself\n",
    "cls is the first argument for class methods which refers to the class itself"
   ]
  },
  {
   "cell_type": "markdown",
   "id": "1ee1d7ed-eeb8-47b2-b69d-8cb498e344ad",
   "metadata": {},
   "source": [
    "#Q5. What is the purpose of the init method?"
   ]
  },
  {
   "cell_type": "markdown",
   "id": "9174f2d5-8b68-4e0e-b15e-d7b72fa437a1",
   "metadata": {},
   "source": [
    "Ans: __init__ is a reseved method in python classes. It serves the role of a constructor in object oriented terminology. This method is called when an object is created from a class and it allows the class to initialize the attributes of the class"
   ]
  },
  {
   "cell_type": "markdown",
   "id": "858fac56-22a4-4e24-9e85-bd108c5e24ca",
   "metadata": {},
   "source": [
    "#Q6. What is the process for creating a class instance?"
   ]
  },
  {
   "cell_type": "code",
   "execution_count": null,
   "id": "37f94dc4-befb-43a8-b2f6-510ed62ecc88",
   "metadata": {},
   "outputs": [],
   "source": [
    "Ans: To create a class instance, we need to call the class by its name and pass the arguments to the class, which its init method accepts.\n",
    "\n",
    "Example: my_name = my_class(\"Mano\",\"vishnu\") Here my_name is an instance of class my_class with attributes \"Mano\" and \"Vishnu\"."
   ]
  },
  {
   "cell_type": "markdown",
   "id": "93e3783e-7ac4-44c4-afd7-e2ec6f0034a8",
   "metadata": {},
   "source": [
    "#Q7. What is the process for creating a class?"
   ]
  },
  {
   "cell_type": "code",
   "execution_count": null,
   "id": "1be963eb-6bcc-4f8f-abcd-6049c85825d3",
   "metadata": {},
   "outputs": [],
   "source": [
    "Ans: class keyword is used to created a class in python. The syntax to create a class in python is class <classname>:\n",
    "\n",
    "Example: class Car: ➞ this creates a class called Car"
   ]
  },
  {
   "cell_type": "code",
   "execution_count": 2,
   "id": "ab067781-c1c9-4d8b-95da-e3aff89fae0f",
   "metadata": {},
   "outputs": [],
   "source": [
    "#Q8. How would you define the superclasses of a class?\n"
   ]
  },
  {
   "cell_type": "code",
   "execution_count": null,
   "id": "6b76b21b-ad9b-4c72-ac7b-6a0cb2800311",
   "metadata": {},
   "outputs": [],
   "source": [
    "Ans Superclass/Parent class is given as a arugment to the child class\n",
    "\n",
    "Example: class Employee(Person): Here child class Employee inherits attributes and methofs from Superclass/Parent Person"
   ]
  }
 ],
 "metadata": {
  "kernelspec": {
   "display_name": "Python 3 (ipykernel)",
   "language": "python",
   "name": "python3"
  },
  "language_info": {
   "codemirror_mode": {
    "name": "ipython",
    "version": 3
   },
   "file_extension": ".py",
   "mimetype": "text/x-python",
   "name": "python",
   "nbconvert_exporter": "python",
   "pygments_lexer": "ipython3",
   "version": "3.10.6"
  }
 },
 "nbformat": 4,
 "nbformat_minor": 5
}
