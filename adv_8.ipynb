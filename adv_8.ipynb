{
 "cells": [
  {
   "cell_type": "markdown",
   "id": "38c05e96-daf5-4bca-9516-374ad474929b",
   "metadata": {},
   "source": [
    "#Q1. What are the two latest user-defined exception constraints in Python 3.X?"
   ]
  },
  {
   "cell_type": "code",
   "execution_count": null,
   "id": "94fcf2a2-9e5c-44b8-af02-402bb3a2b58b",
   "metadata": {},
   "outputs": [],
   "source": [
    "Ans: raise and assert are the two latest user-defined exception constraints in Python 3.X"
   ]
  },
  {
   "cell_type": "markdown",
   "id": "a2413357-955e-48f2-aa16-dc2aab427028",
   "metadata": {},
   "source": [
    "#Q2. How are class-based exceptions that have been raised matched to handlers?"
   ]
  },
  {
   "cell_type": "code",
   "execution_count": null,
   "id": "045c4ae5-d52b-4a0c-a8f4-a73c865ffaeb",
   "metadata": {},
   "outputs": [],
   "source": [
    "Ans: In python, Users can define custom exceptions by creating a new class. This exception class has to be derived,\n",
    "either directly or indirectly from built-in Exception class. This new exception class like other exceptions can be raised\n",
    "using the raise statement with an optional error message."
   ]
  },
  {
   "cell_type": "code",
   "execution_count": 2,
   "id": "4494a875-502a-41b0-8e33-64536f754688",
   "metadata": {},
   "outputs": [
    {
     "ename": "ToYoungException",
     "evalue": "To Young For Voting",
     "output_type": "error",
     "traceback": [
      "\u001b[0;31m---------------------------------------------------------------------------\u001b[0m",
      "\u001b[0;31mToYoungException\u001b[0m                          Traceback (most recent call last)",
      "Cell \u001b[0;32mIn [2], line 5\u001b[0m\n\u001b[1;32m      3\u001b[0m         \u001b[38;5;28mself\u001b[39m\u001b[38;5;241m.\u001b[39mmsg \u001b[38;5;241m=\u001b[39m msg\n\u001b[1;32m      4\u001b[0m age \u001b[38;5;241m=\u001b[39m \u001b[38;5;241m12\u001b[39m\n\u001b[0;32m----> 5\u001b[0m \u001b[38;5;28;01mif\u001b[39;00m age \u001b[38;5;241m<\u001b[39m\u001b[38;5;241m=\u001b[39m \u001b[38;5;241m18\u001b[39m: \u001b[38;5;28;01mraise\u001b[39;00m ToYoungException(\u001b[38;5;124m'\u001b[39m\u001b[38;5;124mTo Young For Voting\u001b[39m\u001b[38;5;124m'\u001b[39m)\n",
      "\u001b[0;31mToYoungException\u001b[0m: To Young For Voting"
     ]
    }
   ],
   "source": [
    "class ToYoungException(Exception):\n",
    "    def __init__(self,msg):\n",
    "        self.msg = msg\n",
    "age = 12\n",
    "if age <= 18: raise ToYoungException('To Young For Voting')"
   ]
  },
  {
   "cell_type": "markdown",
   "id": "8368a72f-0f1e-4159-8afe-43f12664b5ba",
   "metadata": {},
   "source": [
    "#Q3. Describe two methods for attaching context information to exception artefacts ?"
   ]
  },
  {
   "cell_type": "code",
   "execution_count": null,
   "id": "5aa071d3-52a7-41bf-9498-d96cfc387dd5",
   "metadata": {},
   "outputs": [],
   "source": [
    "Ans: The process() method of LoggerAdapter is where the contextual information is added to the logging output. its passes the message and keyword arguments of the logging call, and it passes back modified versions of these to use in the call to the underlying logger.\n",
    "\n",
    "Other method that can be used is exception(), Logs a messgae with level ERROR on this logger. The arguments are interpreted as for debug(). Exception info is added to the logging message."
   ]
  },
  {
   "cell_type": "markdown",
   "id": "55453dbc-1409-4e4f-a87f-7933fd02aa9a",
   "metadata": {},
   "source": [
    "#Q4. Describe two methods for specifying the text of an exception object's error message ?"
   ]
  },
  {
   "cell_type": "code",
   "execution_count": null,
   "id": "896f302e-9d8b-4bad-9678-316a7f2c869a",
   "metadata": {},
   "outputs": [],
   "source": [
    "Ans: raise and assert are two methods for specifying the text of an exception object's error message.raise statement is used to trigger explicit exception, \n",
    "if certain condition is not as per requirement of programmer. it helps in triggering exception as per need of programmer and logic.\n",
    "\n",
    "There are few assertions that programmer always want to be True to avoid code failure. This type of requirment is\n",
    "fullfilled by assert statement. This statement takes a Boolean Condition output of which if True, further program executes.\n",
    "if output of assert statement is False it raises an Assertion Error."
   ]
  },
  {
   "cell_type": "markdown",
   "id": "d86b6c3c-224e-4aa4-9b61-23d1f1486e39",
   "metadata": {},
   "source": [
    "#Q5. Why do you no longer use string-based exceptions?"
   ]
  },
  {
   "cell_type": "code",
   "execution_count": null,
   "id": "a66515fe-d3cb-4614-a4bb-ae2f44f9669d",
   "metadata": {},
   "outputs": [],
   "source": [
    "Ans: String-based Exceptions doesn't inherit from Exceptions. so plain exceptions catch all exceptions and not only system."
   ]
  }
 ],
 "metadata": {
  "kernelspec": {
   "display_name": "Python 3 (ipykernel)",
   "language": "python",
   "name": "python3"
  },
  "language_info": {
   "codemirror_mode": {
    "name": "ipython",
    "version": 3
   },
   "file_extension": ".py",
   "mimetype": "text/x-python",
   "name": "python",
   "nbconvert_exporter": "python",
   "pygments_lexer": "ipython3",
   "version": "3.10.6"
  }
 },
 "nbformat": 4,
 "nbformat_minor": 5
}
