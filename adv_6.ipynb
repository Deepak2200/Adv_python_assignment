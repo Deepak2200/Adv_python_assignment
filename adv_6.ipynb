{
 "cells": [
  {
   "cell_type": "markdown",
   "id": "0b8bbf59-e7ff-4207-8796-536b0e845a9e",
   "metadata": {},
   "source": [
    "#Q1. Describe three applications for exception processing."
   ]
  },
  {
   "cell_type": "code",
   "execution_count": null,
   "id": "d9cbeb1e-08c7-4afd-85df-28d7a446b529",
   "metadata": {},
   "outputs": [],
   "source": [
    "Ans: Exception Processing is important to find exceptions that causes the runtime error. As runtime errors Halt the program execution when exception occurs.\n",
    "\n",
    "Exception Processing is used in Various Applications of which few examples are:\n",
    "\n",
    "Checking Appropriate use of input in an application\n",
    "Checking for Arithmetic exceptions in mathematical executions\n",
    "Checking File I/O exceptions during File handling"
   ]
  },
  {
   "cell_type": "markdown",
   "id": "9ab1cf76-6efd-49e1-bb38-b2f17d5f4178",
   "metadata": {},
   "source": [
    "#Q2. What happens if you don't do something extra to treat an exception?"
   ]
  },
  {
   "cell_type": "code",
   "execution_count": null,
   "id": "5ff0ecf8-7f28-413b-9e70-305f9a0c5e7c",
   "metadata": {},
   "outputs": [],
   "source": [
    "Ans: If Exceptions are not handled flow of program will be broken during the run time which might lead to a abnormal termination of the program. \n",
    "Inshort inability of program to handle exceptions will result in crashing of program."
   ]
  },
  {
   "cell_type": "markdown",
   "id": "59f026d0-8345-4487-8e16-32977a7ecc7c",
   "metadata": {},
   "source": [
    "#Q3. What are your options for recovering from an exception in your script?"
   ]
  },
  {
   "cell_type": "code",
   "execution_count": null,
   "id": "701f7787-91a5-4b3f-9bca-e971e51f9e5a",
   "metadata": {},
   "outputs": [],
   "source": [
    "Ans: Python provides try and except statements for recovering from an exception in your script."
   ]
  },
  {
   "cell_type": "markdown",
   "id": "47993618-3676-4e77-8c70-6b11eebbd709",
   "metadata": {},
   "source": [
    "#Q4. Describe two methods for triggering exceptions in your script ?"
   ]
  },
  {
   "cell_type": "code",
   "execution_count": null,
   "id": "e84a0441-7de6-4ba9-bf78-67d84188458b",
   "metadata": {},
   "outputs": [],
   "source": [
    "Ans: raise and assert are two methods that can be used to trigger manual exceptions in your script.\n",
    "*raise method triggers an exception if condition provided to it turns out to be True.\n",
    "*assert will let the program to continue execution if condition provided to it turns out to be True else exception will be raised"
   ]
  },
  {
   "cell_type": "code",
   "execution_count": 3,
   "id": "ef78c5b8-e989-471e-b5af-d2897b5a06f5",
   "metadata": {},
   "outputs": [
    {
     "ename": "Exception",
     "evalue": "X Value Should not exceed 5 The Provided Value of X is 10",
     "output_type": "error",
     "traceback": [
      "\u001b[0;31m---------------------------------------------------------------------------\u001b[0m",
      "\u001b[0;31mException\u001b[0m                                 Traceback (most recent call last)",
      "Cell \u001b[0;32mIn [3], line 3\u001b[0m\n\u001b[1;32m      1\u001b[0m \u001b[38;5;66;03m## Example of raise\u001b[39;00m\n\u001b[1;32m      2\u001b[0m x \u001b[38;5;241m=\u001b[39m \u001b[38;5;241m10\u001b[39m\n\u001b[0;32m----> 3\u001b[0m \u001b[38;5;28;01mraise\u001b[39;00m \u001b[38;5;167;01mException\u001b[39;00m(\u001b[38;5;124mf\u001b[39m\u001b[38;5;124m'\u001b[39m\u001b[38;5;124mX Value Should not exceed 5 The Provided Value of X is \u001b[39m\u001b[38;5;132;01m{\u001b[39;00mx\u001b[38;5;132;01m}\u001b[39;00m\u001b[38;5;124m'\u001b[39m)\n",
      "\u001b[0;31mException\u001b[0m: X Value Should not exceed 5 The Provided Value of X is 10"
     ]
    }
   ],
   "source": [
    "## Example of raise\n",
    "x = 10\n",
    "raise Exception(f'X Value Should not exceed 5 The Provided Value of X is {x}')"
   ]
  },
  {
   "cell_type": "code",
   "execution_count": 4,
   "id": "ff629765-6aa6-4067-aced-04b74c091433",
   "metadata": {},
   "outputs": [
    {
     "ename": "AssertionError",
     "evalue": "2 is not equal to 4",
     "output_type": "error",
     "traceback": [
      "\u001b[0;31m---------------------------------------------------------------------------\u001b[0m",
      "\u001b[0;31mAssertionError\u001b[0m                            Traceback (most recent call last)",
      "Cell \u001b[0;32mIn [4], line 2\u001b[0m\n\u001b[1;32m      1\u001b[0m \u001b[38;5;66;03m# Example of assert\u001b[39;00m\n\u001b[0;32m----> 2\u001b[0m \u001b[38;5;28;01massert\u001b[39;00m(\u001b[38;5;241m2\u001b[39m\u001b[38;5;241m==\u001b[39m\u001b[38;5;241m4\u001b[39m), \u001b[38;5;124m\"\u001b[39m\u001b[38;5;124m2 is not equal to 4\u001b[39m\u001b[38;5;124m\"\u001b[39m\n",
      "\u001b[0;31mAssertionError\u001b[0m: 2 is not equal to 4"
     ]
    }
   ],
   "source": [
    "# Example of assert\n",
    "assert(2==4), \"2 is not equal to 4\""
   ]
  },
  {
   "cell_type": "markdown",
   "id": "443dec10-a0b7-47ad-b696-ca93b5822b92",
   "metadata": {},
   "source": [
    "#Q5. Identify two methods for specifying actions to be executed at termination time, regardless of whether or not an exception exists."
   ]
  },
  {
   "cell_type": "markdown",
   "id": "47988fd3-6673-4cb1-a5c7-da64df2dffea",
   "metadata": {},
   "source": [
    "Ans: Python Provides else and finally blocks for specifying actions to be executed at termination time, regardless of whether an exceptions exists or not."
   ]
  },
  {
   "cell_type": "code",
   "execution_count": null,
   "id": "2c747587-a0e2-477b-b221-57ea286dac35",
   "metadata": {},
   "outputs": [],
   "source": []
  }
 ],
 "metadata": {
  "kernelspec": {
   "display_name": "Python 3 (ipykernel)",
   "language": "python",
   "name": "python3"
  },
  "language_info": {
   "codemirror_mode": {
    "name": "ipython",
    "version": 3
   },
   "file_extension": ".py",
   "mimetype": "text/x-python",
   "name": "python",
   "nbconvert_exporter": "python",
   "pygments_lexer": "ipython3",
   "version": "3.10.6"
  }
 },
 "nbformat": 4,
 "nbformat_minor": 5
}
