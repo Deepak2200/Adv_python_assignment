{
 "cells": [
  {
   "cell_type": "markdown",
   "id": "36899bed-bc7b-42b9-9344-b82fb49db02a",
   "metadata": {},
   "source": [
    "#Q1. What is the purpose of the try statement?"
   ]
  },
  {
   "cell_type": "markdown",
   "id": "d5b37d3f-287c-4e25-a7aa-92979c6dd30f",
   "metadata": {},
   "source": [
    "Ans: try statement is used for exception handling in python. it consists of a block of risky statements which might cause an exception during runtime. if code within try block raises exception, then the exception will be reverted to the corresponding except block if multiple except blocks are present, else it willbe reverted to the default except block. In short try and except in union avoid programs from crashing during runtime due to exceptions."
   ]
  },
  {
   "cell_type": "code",
   "execution_count": 1,
   "id": "07a4f17d-45dc-40db-835b-afe4a7b22421",
   "metadata": {},
   "outputs": [
    {
     "name": "stdout",
     "output_type": "stream",
     "text": [
      "Division by Zero is Not Possible\n"
     ]
    }
   ],
   "source": [
    "try:\n",
    "    print(10/0)\n",
    "except ZeroDivisionError:\n",
    "    print('Division by Zero is Not Possible')"
   ]
  },
  {
   "cell_type": "markdown",
   "id": "340f3f2b-b9f8-4882-a63b-144a349e4bf0",
   "metadata": {},
   "source": [
    "#Q2. What are the two most popular try statement variations?"
   ]
  },
  {
   "cell_type": "code",
   "execution_count": null,
   "id": "cbd7ff6e-727a-4ad7-bf7f-1fb90078aae7",
   "metadata": {},
   "outputs": [],
   "source": [
    "Ans: The Popular try statement variations are:\n",
    "\n",
    "try,except\n",
    "try,except,finally\n",
    "try,except,finally,else\n",
    "The try block is used to check code for exceptions during runtime. ie code inside try block will execute completely when there is no error in the program. Whereas the code inside except block will execute whenever the program encounters some error in the preceeding try block.\n",
    "\n",
    "Whereas the code enters the else block if and only if the try clause does not raise and exception. The code in the finally block will execute irrespective of exception."
   ]
  },
  {
   "cell_type": "markdown",
   "id": "6d7dba75-b466-4c5a-8e5b-b0f787da1063",
   "metadata": {},
   "source": [
    "#Q3. What is the purpose of the raise statement?"
   ]
  },
  {
   "cell_type": "code",
   "execution_count": null,
   "id": "6fa29955-1dba-41bd-b6c8-172c886e2d38",
   "metadata": {},
   "outputs": [],
   "source": [
    "Ans: raise statement is used to trigger an exception explicitly, if a certain condition is not as per requirement of programmer. \n",
    "raise statement helps in triggering exception as per programming logic."
   ]
  },
  {
   "cell_type": "markdown",
   "id": "b67eef1c-d386-4baa-aed8-cb1ee7396a6d",
   "metadata": {},
   "source": [
    "#Q4. What does the assert statement do, and what other statement is it like?"
   ]
  },
  {
   "cell_type": "code",
   "execution_count": null,
   "id": "bb5ca6b9-74da-45ea-814a-28e4b1e3104b",
   "metadata": {},
   "outputs": [],
   "source": [
    "Ans: There are few assertions that programmer always want to be true to avoid code failure. \n",
    "This type of requirement is fulfilled by assert statement. This statement takes a boolean condition output of which is True, \n",
    "Further Program Executes. if output of assert statement is False, it raises an Assertion Error."
   ]
  },
  {
   "cell_type": "code",
   "execution_count": 2,
   "id": "2e36e043-7f7e-44d1-bf70-de6862cbf10f",
   "metadata": {},
   "outputs": [
    {
     "ename": "AssertionError",
     "evalue": "this is not a valid statement",
     "output_type": "error",
     "traceback": [
      "\u001b[0;31m---------------------------------------------------------------------------\u001b[0m",
      "\u001b[0;31mAssertionError\u001b[0m                            Traceback (most recent call last)",
      "Cell \u001b[0;32mIn [2], line 1\u001b[0m\n\u001b[0;32m----> 1\u001b[0m \u001b[38;5;28;01massert\u001b[39;00m(\u001b[38;5;241m2\u001b[39m \u001b[38;5;241m==\u001b[39m \u001b[38;5;241m4\u001b[39m), \u001b[38;5;124mf\u001b[39m\u001b[38;5;124m'\u001b[39m\u001b[38;5;124mthis is not a valid statement\u001b[39m\u001b[38;5;124m'\u001b[39m\n",
      "\u001b[0;31mAssertionError\u001b[0m: this is not a valid statement"
     ]
    }
   ],
   "source": [
    "assert(2 == 4), f'this is not a valid statement'"
   ]
  },
  {
   "cell_type": "markdown",
   "id": "6ab69524-ff10-41cf-80f6-b4b5e7aa39e0",
   "metadata": {},
   "source": [
    "#Q5. What is the purpose of the with/as argument, and what other statement is it like?"
   ]
  },
  {
   "cell_type": "code",
   "execution_count": null,
   "id": "ef1854b3-eb77-4509-a9c9-87e95ad54a1f",
   "metadata": {},
   "outputs": [],
   "source": [
    "Ans: with/as statement simplifies use of file handling in python. When we use a with statement for file reading, \n",
    "there is no need for programmer to explicitly takecare of activities like resource deallocation and file closing by using file.\n",
    "close() method. with statement itself ensures proper acquisition and release of resources.\n",
    "this avoids triggering of exceptions if file closing is unknowingly forgotten in the code execution."
   ]
  },
  {
   "cell_type": "code",
   "execution_count": null,
   "id": "a96eb4b7-039f-4021-8690-5d1245583053",
   "metadata": {},
   "outputs": [],
   "source": [
    "with open('sample_file.txt','w') as file: file.write('Hello World')"
   ]
  }
 ],
 "metadata": {
  "kernelspec": {
   "display_name": "Python 3 (ipykernel)",
   "language": "python",
   "name": "python3"
  },
  "language_info": {
   "codemirror_mode": {
    "name": "ipython",
    "version": 3
   },
   "file_extension": ".py",
   "mimetype": "text/x-python",
   "name": "python",
   "nbconvert_exporter": "python",
   "pygments_lexer": "ipython3",
   "version": "3.10.6"
  }
 },
 "nbformat": 4,
 "nbformat_minor": 5
}
